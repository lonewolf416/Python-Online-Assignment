{
 "cells": [
  {
   "cell_type": "markdown",
   "metadata": {},
   "source": [
    "# task 1"
   ]
  },
  {
   "cell_type": "code",
   "execution_count": 21,
   "metadata": {},
   "outputs": [
    {
     "name": "stdout",
     "output_type": "stream",
     "text": [
      "{'FirstNamae': 'shakeeb', 'LastName': 'muhammad', 'age': 21, 'city': 'karachi'}\n"
     ]
    }
   ],
   "source": [
    "person={'FirstNamae':'shakeeb',\n",
    "       'LastName':'muhammad',\n",
    "       'age':21,\n",
    "       'city':'karachi'}\n",
    "print(person)"
   ]
  },
  {
   "cell_type": "code",
   "execution_count": 22,
   "metadata": {},
   "outputs": [
    {
     "name": "stdout",
     "output_type": "stream",
     "text": [
      "{'FirstNamae': 'shakeeb', 'LastName': 'muhammad', 'age': 21, 'city': 'karachi', 'qualification': 'undergraduate'}\n"
     ]
    }
   ],
   "source": [
    "person['qualification']='undergraduate'\n",
    "\n",
    "print(person)"
   ]
  },
  {
   "cell_type": "code",
   "execution_count": 24,
   "metadata": {},
   "outputs": [
    {
     "name": "stdout",
     "output_type": "stream",
     "text": [
      "{'FirstNamae': 'shakeeb', 'LastName': 'muhammad', 'age': 21, 'city': 'karachi', 'qualification': 'higher'}\n"
     ]
    }
   ],
   "source": [
    "person.update({'qualification':'higher'})\n",
    "\n",
    "print(person)"
   ]
  },
  {
   "cell_type": "code",
   "execution_count": 25,
   "metadata": {},
   "outputs": [],
   "source": [
    "del person['qualification']"
   ]
  },
  {
   "cell_type": "code",
   "execution_count": 26,
   "metadata": {},
   "outputs": [
    {
     "name": "stdout",
     "output_type": "stream",
     "text": [
      "{'FirstNamae': 'shakeeb', 'LastName': 'muhammad', 'age': 21, 'city': 'karachi'}\n"
     ]
    }
   ],
   "source": [
    "print(person)"
   ]
  },
  {
   "cell_type": "markdown",
   "metadata": {},
   "source": [
    "# task 2"
   ]
  },
  {
   "cell_type": "code",
   "execution_count": 27,
   "metadata": {},
   "outputs": [
    {
     "name": "stdout",
     "output_type": "stream",
     "text": [
      "{'karachi': {'country': 'pakistan', 'pop': '2 cr', 'fact': 'cit of lights'}, 'islamabad': {'country': 'pakistan', 'pop': '1 cr', 'fact': 'capital'}, 'lahore': {'country': 'pakistan', 'pop': '2 cr', 'fact': 'have alot of smog'}}\n"
     ]
    }
   ],
   "source": [
    "cities={'karachi':{'country':'pakistan','pop':'2 cr','fact':'cit of lights'},\n",
    "        'islamabad':{'country':'pakistan','pop':'1 cr','fact':'capital'},\n",
    "        'lahore':{'country':'pakistan','pop':'2 cr','fact':'have alot of smog'}}\n",
    "print(cities)"
   ]
  },
  {
   "cell_type": "code",
   "execution_count": 28,
   "metadata": {},
   "outputs": [
    {
     "name": "stdout",
     "output_type": "stream",
     "text": [
      "{'country': 'pakistan', 'pop': '2 cr', 'fact': 'cit of lights'}\n",
      "{'country': 'pakistan', 'pop': '1 cr', 'fact': 'capital'}\n",
      "{'country': 'pakistan', 'pop': '2 cr', 'fact': 'have alot of smog'}\n"
     ]
    }
   ],
   "source": [
    "print(cities['karachi'])\n",
    "print(cities['islamabad'])\n",
    "print(cities['lahore'])"
   ]
  },
  {
   "cell_type": "markdown",
   "metadata": {},
   "source": [
    "# task 3"
   ]
  },
  {
   "cell_type": "code",
   "execution_count": 29,
   "metadata": {},
   "outputs": [
    {
     "name": "stdout",
     "output_type": "stream",
     "text": [
      "plz enter your age to buy a ticket and for price : 15\n",
      "your ticket is of $15\n"
     ]
    }
   ],
   "source": [
    "age=int(input(\"plz enter your age to buy a ticket and for price : \"))\n",
    "if age <3:\n",
    "    print(\"your ticket is free\")\n",
    "if age >=3 and age <=12:\n",
    "    print(\"your ticket is of $10\")\n",
    "else:\n",
    "    print('your ticket is of $15')"
   ]
  },
  {
   "cell_type": "markdown",
   "metadata": {},
   "source": [
    "# task 4"
   ]
  },
  {
   "cell_type": "code",
   "execution_count": 30,
   "metadata": {},
   "outputs": [
    {
     "name": "stdout",
     "output_type": "stream",
     "text": [
      "one of my favt book is smarter way to learn python\n"
     ]
    }
   ],
   "source": [
    "def fav_book(title):\n",
    "    print(\"one of my favt book is\",title)\n",
    "fav_book(\"smarter way to learn python\")"
   ]
  },
  {
   "cell_type": "markdown",
   "metadata": {},
   "source": [
    "# task 5 "
   ]
  },
  {
   "cell_type": "code",
   "execution_count": 31,
   "metadata": {},
   "outputs": [
    {
     "name": "stdout",
     "output_type": "stream",
     "text": [
      "input a guess number15\n",
      "your guess is high\n",
      "input a guess number10\n",
      "your guess is small\n",
      "input a guess number13\n",
      "your guess is small\n",
      "you loose correct no is : 14\n"
     ]
    }
   ],
   "source": [
    "import random\n",
    "random=random.randint(1, 30)\n",
    "i=0\n",
    "guess=0\n",
    "for i in range(3):\n",
    "    guess=int(input('input a guess number'))\n",
    "    if guess==random:\n",
    "        print(\"correct guess\",random)\n",
    "        break\n",
    "    if guess<random:\n",
    "        print(\"your guess is small\")\n",
    "    if guess>random:\n",
    "        print(\"your guess is high\")\n",
    "\n",
    "if random!=guess:\n",
    "    print(\"you loose correct no is :\",random)\n",
    "else:\n",
    "    print(\"you win\")"
   ]
  },
  {
   "cell_type": "code",
   "execution_count": null,
   "metadata": {},
   "outputs": [],
   "source": []
  }
 ],
 "metadata": {
  "kernelspec": {
   "display_name": "Python 3",
   "language": "python",
   "name": "python3"
  },
  "language_info": {
   "codemirror_mode": {
    "name": "ipython",
    "version": 3
   },
   "file_extension": ".py",
   "mimetype": "text/x-python",
   "name": "python",
   "nbconvert_exporter": "python",
   "pygments_lexer": "ipython3",
   "version": "3.7.1"
  }
 },
 "nbformat": 4,
 "nbformat_minor": 2
}
