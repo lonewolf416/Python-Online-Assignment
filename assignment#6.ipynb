{
 "cells": [
  {
   "cell_type": "markdown",
   "metadata": {},
   "source": [
    "# assignment 6\n"
   ]
  },
  {
   "cell_type": "markdown",
   "metadata": {},
   "source": [
    "# 1)\tOBJECT ORIENTED PROGRAMMING:\n",
    "Object-oriented programming (OOP) is a way of writing computer programs using the idea of \"objects\" to represent data and methods. ... Also, because of the wayobject-oriented programming is designed, it helps the developer by allowing for code to be easily reused by other parts of the program or even by other people.\n"
   ]
  },
  {
   "cell_type": "markdown",
   "metadata": {},
   "source": [
    "# 2)\tBENEFITS OF OBJECT-ORIENTED PROGRAMMING\n",
    "•\tOOP provides a clear modular structure for programs.\n",
    "•\tIt is good for defining abstract data types.\n",
    "•\tImplementation details are hidden from other modules and other modules has a clearly defined interface.\n",
    "•\tIt is easy to maintain and modify existing code as new objects can be created with small differences to existing ones.\n",
    "•\tobjects, methods, instance, message passing, inheritance are some important properties provided by these particular languages\n",
    "•\tencapsulation, polymorphism, abstraction is also counting in these fundamentals of programming language.\n",
    "•\tIt implements real life scenario.\n",
    "•\tIn OOP, programmer not only defines data types but also deals with operations applied for data structures.\n"
   ]
  },
  {
   "cell_type": "markdown",
   "metadata": {},
   "source": [
    "# 3)\tDIFFERENCE BETWEEN FUNCTIONS AND METHODS\n",
    "•\tA function is a piece of code that is called by name. It can be passed data to operate on (i.e. the parameters) and can optionally return data (the return value). All data that is passed to a function is explicitly passed.\n",
    "•\tA method is a piece of code that is called by a name that is associated with an object. In most respects it is identical to a function except for two key differences:\n",
    "1.\tA method is implicitly passed the object on which it was called.\n",
    "2.\tA method is able to operate on data that is contained within the class (remembering that an object is an instance of a class - the class is the definition; the object is an instance of that data).\n"
   ]
  },
  {
   "cell_type": "markdown",
   "metadata": {},
   "source": [
    "# 4)\tDEFINE THESE:\n",
    "CLASS\n",
    "class is a blueprint for creating objects (a particular data structure), providing initial values for state (member variables or attributes), and implementations of behavior (member functions or methods). The user-defined objects are created using the class keyword.\n",
    "\n",
    "OBJECTS\n",
    "objects are the things you think about first in designing a program and they are also the units of code that are eventually derived from the process. ... Each object is an instance of a particular class or subclass with the class's own methods or procedures and data variables.\n",
    "\n",
    "ATTRIBUTES\n",
    "classes and objects have attributes. Attributes are data stored inside a class or instance and represent the state or quality of the class or instance. In short, attributes store information about the instance.\n",
    "\n",
    "BEHAVIOUR\n",
    "The behavior of an object is defined by its methods, which are the functions and subroutines defined within the object class. Without class methods, a class would simply be a structure. Methods determine what type of functionality a class has, how it modifies its data, and its overall behavior.\n"
   ]
  },
  {
   "cell_type": "code",
   "execution_count": 15,
   "metadata": {},
   "outputs": [
    {
     "name": "stdout",
     "output_type": "stream",
     "text": [
      "whoom bhoom your engine is now start\n"
     ]
    }
   ],
   "source": [
    "class car:\n",
    "    name=\"civic\"\n",
    "    make=\"honda\"\n",
    "    model=2020\n",
    "    price=4000000\n",
    "    color=\"white\"\n",
    "    \n",
    "    def start(self):\n",
    "        print(\"whoom bhoom your engine is now start\")\n",
    "    def stop(self):\n",
    "        print(\"engine is now stop\")\n",
    "    def horn(self):\n",
    "        print(\"peep peep\")\n",
    "car_a=car()\n",
    "car_a.start()"
   ]
  },
  {
   "cell_type": "code",
   "execution_count": 13,
   "metadata": {},
   "outputs": [
    {
     "name": "stdout",
     "output_type": "stream",
     "text": [
      "engine is now stop\n"
     ]
    }
   ],
   "source": [
    "car_a.stop()"
   ]
  },
  {
   "cell_type": "code",
   "execution_count": 14,
   "metadata": {},
   "outputs": [
    {
     "name": "stdout",
     "output_type": "stream",
     "text": [
      "peep peep\n"
     ]
    }
   ],
   "source": [
    "car_a.horn()"
   ]
  },
  {
   "cell_type": "code",
   "execution_count": null,
   "metadata": {},
   "outputs": [],
   "source": []
  }
 ],
 "metadata": {
  "kernelspec": {
   "display_name": "Python 3",
   "language": "python",
   "name": "python3"
  },
  "language_info": {
   "codemirror_mode": {
    "name": "ipython",
    "version": 3
   },
   "file_extension": ".py",
   "mimetype": "text/x-python",
   "name": "python",
   "nbconvert_exporter": "python",
   "pygments_lexer": "ipython3",
   "version": "3.7.1"
  }
 },
 "nbformat": 4,
 "nbformat_minor": 2
}
